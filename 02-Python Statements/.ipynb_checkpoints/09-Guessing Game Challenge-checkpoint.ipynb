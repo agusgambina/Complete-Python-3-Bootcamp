{
 "cells": [
  {
   "cell_type": "markdown",
   "metadata": {},
   "source": [
    "# Guessing Game Challenge\n",
    "\n",
    "Let's use `while` loops to create a guessing game.\n",
    "\n",
    "The Challenge:\n",
    "\n",
    "Write a program that picks a random integer from 1 to 100, and has players guess the number. The rules are:\n",
    "\n",
    "1. If a player's guess is less than 1 or greater than 100, say \"OUT OF BOUNDS\"\n",
    "2. On a player's first turn, if their guess is\n",
    " * within 10 of the number, return \"WARM!\"\n",
    " * further than 10 away from the number, return \"COLD!\"\n",
    "3. On all subsequent turns, if a guess is \n",
    " * closer to the number than the previous guess return \"WARMER!\"\n",
    " * farther from the number than the previous guess, return \"COLDER!\"\n",
    "4. When the player's guess equals the number, tell them they've guessed correctly *and* how many guesses it took!\n",
    "\n",
    "You can try this from scratch, or follow the steps outlined below. A separate Solution notebook has been provided. Good luck!\n"
   ]
  },
  {
   "cell_type": "markdown",
   "metadata": {},
   "source": [
    "#### First, pick a random integer from 1 to 100 using the random module and assign it to a variable\n",
    "\n",
    "Note: `random.randint(a,b)` returns a random integer in range `[a, b]`, including both end points."
   ]
  },
  {
   "cell_type": "code",
   "execution_count": 11,
   "metadata": {},
   "outputs": [
    {
     "name": "stdout",
     "output_type": "stream",
     "text": [
      "78\n"
     ]
    }
   ],
   "source": [
    "import random\n",
    "random_integer = random.randint(1,100)\n",
    "print(random_integer)"
   ]
  },
  {
   "cell_type": "markdown",
   "metadata": {},
   "source": [
    "#### Next, print an introduction to the game and explain the rules"
   ]
  },
  {
   "cell_type": "code",
   "execution_count": 2,
   "metadata": {},
   "outputs": [
    {
     "name": "stdout",
     "output_type": "stream",
     "text": [
      "Welcome to Guessing Game Challenge\n",
      "The player will try to guess a number between 1 and 100\n",
      "if the player guess is lower than 1 or greater than 100 it will return 'OUT OF BOUNDS'\n",
      "in the first player's turn if their guess is within 10 of the number, it will return 'WARM!', else it returns 'COLD!'\n",
      "on all subsequent turns, if a guess is closer it will return 'WARMER' OR 'COLDER'\n",
      "When a player guess equals the number it returns 'You guessed after xxx times'\n"
     ]
    }
   ],
   "source": [
    "print(f\"Welcome to Guessing Game Challenge\")\n",
    "print(f\"The player will try to guess a number between 1 and 100\")\n",
    "print(f\"if the player guess is lower than 1 or greater than 100 it will return 'OUT OF BOUNDS'\")\n",
    "print(f\"in the first player's turn if their guess is within 10 of the number, it will return 'WARM!', else it returns 'COLD!'\")\n",
    "print(f\"on all subsequent turns, if a guess is closer it will return 'WARMER' OR 'COLDER'\")\n",
    "print(f\"When a player guess equals the number it returns 'You guessed after xxx times'\")"
   ]
  },
  {
   "cell_type": "markdown",
   "metadata": {},
   "source": [
    "#### Create a list to store guesses\n",
    "\n",
    "Hint: zero is a good placeholder value. It's useful because it evaluates to \"False\""
   ]
  },
  {
   "cell_type": "code",
   "execution_count": 3,
   "metadata": {},
   "outputs": [],
   "source": [
    "guesses = []"
   ]
  },
  {
   "cell_type": "markdown",
   "metadata": {},
   "source": [
    "#### Write a `while` loop that asks for a valid guess. Test it a few times to make sure it works."
   ]
  },
  {
   "cell_type": "code",
   "execution_count": 16,
   "metadata": {},
   "outputs": [
    {
     "name": "stdout",
     "output_type": "stream",
     "text": [
      "101\n",
      "Write a guess 101\n",
      "OUT OF BOUNDS\n",
      "-10\n",
      "Write a guess -10\n",
      "OUT OF BOUNDS\n",
      "2\n",
      "Write a guess 2\n",
      "COLD!\n"
     ]
    }
   ],
   "source": [
    "while True:\n",
    "    guess_string = input()\n",
    "    print(\"Write a guess\", guess_string)\n",
    "    guess = int(guess_string)\n",
    "    if guess < 1 or guess > 100:\n",
    "        print('OUT OF BOUNDS')\n",
    "        pass\n",
    "    elif abs(guess - random_integer) < 10:\n",
    "        guesses.append(guess)\n",
    "        print('WARM!') \n",
    "        break\n",
    "    else:\n",
    "        guesses.append(guess)\n",
    "        print('COLD!') \n",
    "        break"
   ]
  },
  {
   "cell_type": "markdown",
   "metadata": {},
   "source": [
    "#### Write a `while` loop that compares the player's guess to our number. If the player guesses correctly, break from the loop. Otherwise, tell the player if they're warmer or colder, and continue asking for guesses.\n",
    "\n",
    "Some hints:\n",
    "* it may help to sketch out all possible combinations on paper first!\n",
    "* you can use the `abs()` function to find the positive difference between two numbers\n",
    "* if you append all new guesses to the list, then the previous guess is given as `guesses[-2]`"
   ]
  },
  {
   "cell_type": "code",
   "execution_count": null,
   "metadata": {},
   "outputs": [],
   "source": [
    "while True:\n",
    "\n",
    "    # we can copy the code from above to take an input\n",
    "    while True:\n",
    "    guess_string = input()\n",
    "    print(\"Write a guess\", guess_string)\n",
    "    guess = int(guess_string)\n",
    "    if guess < 1 or guess > 100:\n",
    "        print('OUT OF BOUNDS')\n",
    "        pass\n",
    "    elif guess - random_integer == 0:\n",
    "        print(f\"Guessed at first attemp\")\n",
    "        break\n",
    "    elif abs(guess - random_integer) < 10:\n",
    "        guesses.append(guess)\n",
    "        print('WARM!') \n",
    "        break\n",
    "    else:\n",
    "        guesses.append(guess)\n",
    "        print('COLD!') \n",
    "        break\n",
    "\n",
    "    guess_string_two = input()\n",
    "    print(\"Write a guess\", guess_string_two)\n",
    "    guess_two = int(guess_string_two)\n",
    "    if guess_two < 1 or guess_two > 100:\n",
    "        print('OUT OF BOUNDS')\n",
    "        pass\n",
    "    elif guess_two - random_integer == 0:\n",
    "        print(f\"Guessed after {len(guesses)} attemps\")\n",
    "        break\n",
    "    elif abs(guess_two - random_integer) < abs(guesses[-1] - random_integer):\n",
    "        guesses.append(guess)\n",
    "        print('WARMER!') \n",
    "        break\n",
    "    else:\n",
    "        guesses.append(guess)\n",
    "        print('COLD!') \n",
    "        break\n",
    "    pass"
   ]
  },
  {
   "cell_type": "markdown",
   "metadata": {},
   "source": [
    "That's it! You've just programmed your first game!\n",
    "\n",
    "In the next section we'll learn how to turn some of these repetitive actions into *functions* that can be called whenever we need them."
   ]
  },
  {
   "cell_type": "markdown",
   "metadata": {},
   "source": [
    "### Good Job!"
   ]
  }
 ],
 "metadata": {
  "kernelspec": {
   "display_name": "Python 3",
   "language": "python",
   "name": "python3"
  },
  "language_info": {
   "codemirror_mode": {
    "name": "ipython",
    "version": 3
   },
   "file_extension": ".py",
   "mimetype": "text/x-python",
   "name": "python",
   "nbconvert_exporter": "python",
   "pygments_lexer": "ipython3",
   "version": "3.7.3"
  }
 },
 "nbformat": 4,
 "nbformat_minor": 2
}
